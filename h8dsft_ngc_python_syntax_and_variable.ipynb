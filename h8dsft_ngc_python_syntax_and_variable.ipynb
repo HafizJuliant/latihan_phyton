{
 "cells": [
  {
   "cell_type": "code",
   "execution_count": 1,
   "metadata": {},
   "outputs": [
    {
     "name": "stdout",
     "output_type": "stream",
     "text": [
      "63\n"
     ]
    }
   ],
   "source": [
    "customer_id = ['B818', 'A461', 'A092', 'A082', 'B341', 'A005', 'A092', 'A461','B219', 'B904', 'A901', 'A083', 'B904', 'A092', 'B341', 'B821','B341', 'B821', 'B904', 'B818', 'A901', 'A083', 'B818', 'A082','B219', 'B219', 'A083', 'A901', 'A082', 'B341', 'B341', 'A083','A082', 'B219', 'B439', 'A461', 'A005', 'A901', 'B341', 'A082','A083', 'A461', 'A083', 'A901', 'A461', 'A083', 'A082', 'A083','B341', 'A901', 'A082', 'A461', 'B219', 'A083', 'B818', 'B821','A092', 'B341', 'A461', 'A092', 'A083', 'B821', 'A092']\n",
    "\n",
    "print(len(customer_id))\n",
    "\n",
    "\n",
    "\n"
   ]
  },
  {
   "cell_type": "code",
   "execution_count": 7,
   "metadata": {},
   "outputs": [
    {
     "name": "stdout",
     "output_type": "stream",
     "text": [
      "16\n",
      "[36, 49, 64, 81]\n",
      "[100, 81, 64, 49, 36, 25, 16, 9, 4, 1]\n"
     ]
    }
   ],
   "source": [
    "Data = [1, 4, 9, 16, 25, 36, 49,  64, 81, 100]\n",
    "\n",
    "print(Data[3])\n",
    "print(Data[5:9])\n",
    "Data.reverse()\n",
    "print(Data)\n",
    "\n"
   ]
  },
  {
   "cell_type": "code",
   "execution_count": 15,
   "metadata": {},
   "outputs": [
    {
     "name": "stdout",
     "output_type": "stream",
     "text": [
      "{'Nanggroe Aceh Darussalam': 'Aceh', 'Sumatera Selatan': 'Palembang', 'Kalimantan Barat': 'Pontianak', 'Jawa Timur': 'Madiun', 'Sulawesi Selatan': 'Makassar', 'Maluku': 'Ambon'}\n",
      "{'Nanggroe Aceh Darussalam': 'Aceh', 'Sumatera Selatan': 'Palembang', 'Kalimantan Barat': 'Pontianak', 'Jawa Timur': 'Surabaya', 'Sulawesi Selatan': 'Makassar', 'Maluku': 'Ambon'}\n"
     ]
    }
   ],
   "source": [
    "provinsi = {'Nanggroe Aceh Darussalam': 'Aceh','Sumatera Selatan': 'Palembang','Kalimantan Barat': 'Pontianak','Jawa Timur': 'Madiun','Sulawesi Selatan': 'Makassar','Maluku': 'Ambon' }\n",
    "\n",
    "print(provinsi)\n",
    "provinsi['Jawa Timur'] = 'Surabaya'\n",
    "print(provinsi)"
   ]
  }
 ],
 "metadata": {
  "language_info": {
   "name": "python"
  }
 },
 "nbformat": 4,
 "nbformat_minor": 2
}
